{
 "cells": [
  {
   "cell_type": "code",
   "execution_count": 1,
   "id": "0ea80cc9",
   "metadata": {},
   "outputs": [
    {
     "name": "stdout",
     "output_type": "stream",
     "text": [
      "Select door 'A', 'B', or 'C': A\n",
      "The door I will now open is: %r % open_door\n",
      "Would you like to select the third door? Type 'Yes' or 'No': NO\n",
      "\n",
      "        You decided to keep your initial door, 'A'\n",
      "\n",
      "                Sorry, the prize was behind the alternate door, 'C'\n",
      "\n",
      "This is a check:\n",
      "Prize: 'C'\n",
      "Selection: 'A' \n",
      "Alternate: 'C' \n",
      "Door opened: 'B' \n"
     ]
    }
   ],
   "source": [
    "#Kotha Narasimha Rao\n",
    "#RA2011027010120\n",
    "\n",
    "import random\n",
    "\n",
    "A = \"A\"\n",
    "B = \"B\"\n",
    "C = \"C\"\n",
    "\n",
    "doors = [\"A\", \"B\", \"C\"]\n",
    "\n",
    "prize = random.choice(doors)\n",
    "\n",
    "selection = input(\"Select door 'A', 'B', or 'C': \")\n",
    "\n",
    "if selection == prize:\n",
    "        remaining = list(set(doors) - set(prize))\n",
    "        open_door = random.choice(list(set(doors) - set(random.choice(remaining))))\n",
    "        alternate = random.choice(list(set(doors) - set(open_door) - set(prize)))\n",
    "\n",
    "else:\n",
    "        open_door = random.choice(list(set(doors) - set(selection) - set(prize)))\n",
    "        alternate = random.choice(list(set(doors) - set(open_door) - set(selection)))\n",
    "\n",
    "print (\"The door I will now open is: %r % open_door\")\n",
    "\n",
    "second_chance = input(\"Would you like to select the third door? Type 'Yes' or 'No': \")\n",
    "\n",
    "if second_chance == \"Yes\":\n",
    "        print( \"\"\"\n",
    "        The door you will switch to is: %r \"\"\" % alternate\n",
    ")\n",
    "        if alternate == prize:\n",
    "                print (\"\"\"\n",
    "                Congrats, you win! The prize was behind the alternate, %r\"\"\" % alternate)\n",
    "        else:\n",
    "                print (\"\"\"\n",
    "                Sorry, the prize was behind the original door %r\"\"\" % prize)\n",
    "\n",
    "\n",
    "if second_chance != \"Yes\":\n",
    "        print( \"\"\"\n",
    "        You decided to keep your initial door, %r\"\"\" % selection)\n",
    "        if selection != prize:\n",
    "                print (\"\"\"\n",
    "                Sorry, the prize was behind the alternate door, %r\"\"\" % prize)\n",
    "        else:\n",
    "                print( \"\"\"\n",
    "                Congrats, you win! The prize was behind your original selection, %r\"\"\" % selection)\n",
    "\n",
    "\n",
    "print( \"\"\"\n",
    "This is a check:\"\"\")\n",
    "\n",
    "print (\"Prize: %r\" % prize)\n",
    "print (\"Selection: %r \" % selection)\n",
    "print (\"Alternate: %r \" % alternate)\n",
    "print (\"Door opened: %r \" % open_door)\n"
   ]
  },
  {
   "cell_type": "code",
   "execution_count": null,
   "id": "7739729a",
   "metadata": {},
   "outputs": [],
   "source": []
  }
 ],
 "metadata": {
  "kernelspec": {
   "display_name": "Python 3 (ipykernel)",
   "language": "python",
   "name": "python3"
  },
  "language_info": {
   "codemirror_mode": {
    "name": "ipython",
    "version": 3
   },
   "file_extension": ".py",
   "mimetype": "text/x-python",
   "name": "python",
   "nbconvert_exporter": "python",
   "pygments_lexer": "ipython3",
   "version": "3.9.7"
  }
 },
 "nbformat": 4,
 "nbformat_minor": 5
}
